{
 "cells": [
  {
   "cell_type": "markdown",
   "id": "d895030e-013f-44d9-b6d4-8e02f0ddca41",
   "metadata": {
    "tags": []
   },
   "source": [
    "## STAC Collection: gNATSGO Tables\n",
    "### Https://planetarycomputer.microsoft.com/api/stac/v1/collections/gnatsgo-tables\n"
   ]
  },
  {
   "cell_type": "code",
   "execution_count": 4,
   "id": "8fbd9ba4-5aae-4098-9070-70f5f8a50bed",
   "metadata": {},
   "outputs": [],
   "source": [
    "import planetary_computer\n",
    "import numpy as np\n",
    "import pandas as pd\n",
    "import rioxarray\n",
    "import xarray\n",
    "import pystac_client"
   ]
  },
  {
   "cell_type": "code",
   "execution_count": 5,
   "id": "3e64f0bd-dbb3-42c2-ab0b-0e9c4d26e608",
   "metadata": {},
   "outputs": [],
   "source": [
    "catalog = pystac_client.Client.open(\n",
    "    \"https://planetarycomputer.microsoft.com/api/stac/v1\",\n",
    "    modifier=planetary_computer.sign_inplace,\n",
    ")"
   ]
  },
  {
   "cell_type": "code",
   "execution_count": 12,
   "id": "e3c70196-b08c-4409-9921-632706526642",
   "metadata": {},
   "outputs": [],
   "source": [
    "def getTableDataAsCsv(table_name, table_key, column_list, csv_file_name):\n",
    "\n",
    "    catalog_items = catalog.get_collection(\"gnatsgo-tables\").get_item(table_name)\n",
    "    \n",
    "    table_data = pd.read_parquet(\n",
    "        catalog_items.assets[\"data\"].href,\n",
    "        columns= column_list,\n",
    "        storage_options= catalog_items.assets[\"data\"].extra_fields[\"table:storage_options\"],\n",
    "        engine=\"pyarrow\",\n",
    "    )\n",
    "    if table_key > \"\":\n",
    "        table_data = table_data.set_index(table_key)\n",
    "    \n",
    "    df = pd.DataFrame(table_data)\n",
    "    pd.set_option('display.max_colwidth', 500)\n",
    "\n",
    "    df.to_csv(csv_file_name)"
   ]
  },
  {
   "cell_type": "code",
   "execution_count": 13,
   "id": "5d20c981-29f9-493f-bd46-d72d4dd0d24e",
   "metadata": {},
   "outputs": [],
   "source": [
    "#Mapunit\n",
    "columns = [\"mukey\", \"lkey\", \"musym\",  \"muname\",  \"mukind\",  \"mustatus\",  \"muacres\",  \"mapunitlfw_l\",  \"mapunitlfw_r\",  \"mapunitlfw_h\",  \"mapunitpfa_l\",  \"mapunitpfa_r\",  \"mapunitpfa_h\",  \"farmlndcl\",  \"muhelcl\",  \"muwathelcl\",  \"muwndhelcl\",  \"interpfocus\",  \"invesintens\",  \"iacornsr\",  \"nhiforsoigrp\",  \"nhspiagr\",  \"vtsepticsyscl\",  \"mucertstat\"]\n",
    "getTableDataAsCsv(\"mapunit\", \"mukey\", columns, \"mapunit.csv\")"
   ]
  },
  {
   "cell_type": "code",
   "execution_count": 14,
   "id": "217567ff-4124-4290-b077-cc48f112a34e",
   "metadata": {},
   "outputs": [],
   "source": [
    "#Valu1\n",
    "columns = ['mukey', 'aws0_5', 'aws0_999', 'tk0_5a', 'tk0_999a', 'musumcpcta', 'soc0_5', 'soc5_20', 'soc20_50', 'soc50_100', 'soc100_150', 'soc150_999', 'soc0_20', 'soc0_30', 'soc0_100', 'soc0_150', 'soc0_999', 'tk0_5s', 'tk5_20s', 'tk20_50s', 'tk50_100s', 'tk100_150s', 'tk150_999s', 'tk0_20s', 'tk0_30s', 'tk0_100s', 'tk0_150s', 'tk0_999s', 'musumcpcts', 'nccpi3corn', 'nccpi3soy', 'nccpi3cot', 'nccpi3sg', 'nccpi3all', 'pctearthmc', 'rootznemc', 'rootznaws', 'droughty', 'pwsl1pomu', 'musumcpct']\n",
    "getTableDataAsCsv(\"valu1\", \"mukey\", columns, \"valu1.csv\")"
   ]
  },
  {
   "cell_type": "code",
   "execution_count": 15,
   "id": "0c43b7fe-af59-42de-ab80-6863b04fd587",
   "metadata": {},
   "outputs": [],
   "source": [
    "#muaggatt\n",
    "columns = [\"mukey\", \"musym\",  \"muname\",  \"mustatus\",  \"slopegraddcp\",  \"slopegradwta\",  \"brockdepmin\",  \"wtdepannmin\",  \"wtdepaprjunmin\",  \"flodfreqdcd\",  \"flodfreqmax\",  \"pondfreqprs\",  \"aws025wta\",  \"aws050wta\",  \"aws0100wta\",  \"aws0150wta\",  \"drclassdcd\",  \"drclasswettest\",  \"hydgrpdcd\",  \"iccdcd\",  \"iccdcdpct\",  \"niccdcd\",  \"niccdcdpct\",  \"engdwobdcd\",  \"engdwbdcd\",  \"engdwbll\",  \"engdwbml\",  \"engstafdcd\",  \"engstafll\",  \"engstafml\",  \"engsldcd\",  \"engsldcp\",  \"englrsdcd\",  \"engcmssdcd\",  \"engcmssmp\",  \"urbrecptdcd\",  \"urbrecptwta\",  \"forpehrtdcp\",  \"hydclprs\",  \"awmmfpwwta\"]\n",
    "getTableDataAsCsv(\"muaggatt\", \"mukey\", columns, \"muaggatt.csv\")"
   ]
  },
  {
   "cell_type": "code",
   "execution_count": 16,
   "id": "e030a0b1-b2e1-4274-9dd3-6d3b40cd173c",
   "metadata": {},
   "outputs": [],
   "source": [
    "#mucropyld\n",
    "columns = [\"mukey\", \"mucrpyldkey\", \"cropname\",  \"yldunits\",  \"nonirryield_l\",  \"nonirryield_r\",  \"nonirryield_h\",  \"irryield_l\",  \"irryield_r\", \"irryield_h\"]\n",
    "getTableDataAsCsv(\"mucropyld\", \"mukey\", columns, \"mucropyield.csv\")"
   ]
  },
  {
   "cell_type": "code",
   "execution_count": 17,
   "id": "c52c3069-cb88-4121-bcce-5eeae21ec223",
   "metadata": {},
   "outputs": [],
   "source": [
    "#legend\n",
    "columns = [\"lkey\", \"areatypename\",  \"areasymbol\",  \"areaname\",  \"areaacres\",  \"mlraoffice\",  \"legenddesc\",  \"ssastatus\",  \"mouagncyresp\",  \"projectscale\",  \"cordate\",  \"ssurgoarchived\",  \"legendsuituse\",  \"legendcertstat\"]\n",
    "getTableDataAsCsv(\"legend\", \"lkey\", columns, \"legend.csv\")"
   ]
  },
  {
   "cell_type": "code",
   "execution_count": 18,
   "id": "4e6d6b38-15e7-41c8-b7ce-fd52f86e3596",
   "metadata": {},
   "outputs": [],
   "source": [
    "#sacatalog\n",
    "columns = [\"sacatalogkey\", \"areasymbol\", \"areaname\", \"saverest\", \"tabularversion\", \"tabularverest\", \"tabnasisexportdate\", \"tabcertstatus\", \"tabcertstatusdesc\", \"fgdcmetadata\"]\n",
    "getTableDataAsCsv(\"sacatalog\", \"sacatalogkey\", columns, \"sacatalog.csv\")"
   ]
  },
  {
   "cell_type": "code",
   "execution_count": null,
   "id": "928c8f87-c4db-4b6c-9ce4-687c3e833969",
   "metadata": {},
   "outputs": [],
   "source": []
  }
 ],
 "metadata": {
  "kernelspec": {
   "display_name": "Python 3 (ipykernel)",
   "language": "python",
   "name": "python3"
  },
  "language_info": {
   "codemirror_mode": {
    "name": "ipython",
    "version": 3
   },
   "file_extension": ".py",
   "mimetype": "text/x-python",
   "name": "python",
   "nbconvert_exporter": "python",
   "pygments_lexer": "ipython3",
   "version": "3.10.6"
  },
  "toc-autonumbering": true
 },
 "nbformat": 4,
 "nbformat_minor": 5
}
